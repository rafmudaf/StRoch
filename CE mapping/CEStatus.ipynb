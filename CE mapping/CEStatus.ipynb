{
 "metadata": {
  "language_info": {
   "codemirror_mode": {
    "name": "ipython",
    "version": 3
   },
   "file_extension": ".py",
   "mimetype": "text/x-python",
   "name": "python",
   "nbconvert_exporter": "python",
   "pygments_lexer": "ipython3",
   "version": "3.8.5-final"
  },
  "orig_nbformat": 2,
  "kernelspec": {
   "name": "Python 3.8.5 64-bit ('stroch': conda)",
   "display_name": "Python 3.8.5 64-bit ('stroch': conda)",
   "metadata": {
    "interpreter": {
     "hash": "6d56195ff6fa77f1067c64a512cb61a0152df2eeb7a872e954fa572186aee931"
    }
   }
  }
 },
 "nbformat": 4,
 "nbformat_minor": 2,
 "cells": [
  {
   "cell_type": "code",
   "execution_count": 2,
   "metadata": {},
   "outputs": [],
   "source": [
    "import pandas as pd\n",
    "from urllib.parse import quote"
   ]
  },
  {
   "cell_type": "code",
   "execution_count": 4,
   "metadata": {},
   "outputs": [],
   "source": [
    "## NOLA Open Data End Points\n",
    "ce_all_violations = \"https://data.nola.gov/resource/3ehi-je3s.json\"\n",
    "ce_all_cases = \"https://data.nola.gov/resource/u6yx-v2tw.json\""
   ]
  },
  {
   "cell_type": "code",
   "execution_count": 5,
   "metadata": {},
   "outputs": [],
   "source": [
    "def get_data(endpoint, queries=[]):\n",
    "    query_string = \"?\" + \"&\".join(queries)\n",
    "    full_url = endpoint + query_string\n",
    "    data = pd.read_json(full_url)\n",
    "    return data\n",
    "\n",
    "class Violation():\n",
    "    def __init__(self, df):\n",
    "        self.caseid = df['caseid']\n",
    "        self.violationid = df['violationid']\n",
    "        self.caseno = df['caseno']\n",
    "        self.location = df['location']\n",
    "        self.violationdate = df['violationdate']\n",
    "        self.codesection = df['codesection']\n",
    "        self.violation = df['violation']\n",
    "        self.description = df['description']\n",
    "        self.lastupload = df['lastupload']  \n",
    "\n",
    "class Case():\n",
    "    def __init__(self, df):\n",
    "        self.o_c = df['o_c']\n",
    "        self.case_number = df['caseno']\n",
    "        self.location = df['location']\n",
    "        self.stage = df['stage']\n",
    "        self.keystatus = df['keystatus']\n",
    "        self.statdate = df['statdate']\n",
    "        self.casefiled = df['casefiled']\n",
    "        self.initinspection = df['initinspection']\n",
    "        self.initinspresult = df['initinspresult']\n",
    "        self.prevhearingresult = df['prevhearingresult']\n",
    "        self.permitstatus = df['permitstatus']\n",
    "        self.geoaddress = df['geoaddress']\n",
    "        self.city = df['city']\n",
    "        self.state = df['state']\n",
    "        self.zipcode = df['zipcode']\n",
    "        self.geopin = df['geopin']\n",
    "        self.xpos = df['xpos']\n",
    "        self.ypos = df['ypos']\n",
    "        self.caseid = df['caseid']\n",
    "        self.lastupload = df['lastupload']\n",
    "\n",
    "class property():\n",
    "    def __init__(self, df):\n",
    "        self.cases = []"
   ]
  },
  {
   "cell_type": "code",
   "execution_count": 6,
   "metadata": {},
   "outputs": [],
   "source": [
    "address = \"1339 Music St\"\n",
    "queries = [\n",
    "    \"location=\"+quote(address),\n",
    "]\n",
    "\n",
    "violations = get_data(ce_all_violations, queries)\n",
    "# cases = violations['caseno'].tolist()\n",
    "# for case in cases:\n",
    "    # print(get_data(ce_all_cases, [\"caseno=\" + case]))\n",
    "cases = get_data(ce_all_cases, queries)"
   ]
  },
  {
   "cell_type": "code",
   "execution_count": 7,
   "metadata": {},
   "outputs": [
    {
     "output_type": "stream",
     "name": "stdout",
     "text": [
      "6 - Case Closed 2013-06-03T14:48:36.000\n2013-06-13T00:00:00.000 The property was inspected on 06/13/2013 with a finding of \"No Violation\". The file was subsequently closed.\n2013-06-13T00:00:00.000 No Violation\n"
     ]
    }
   ],
   "source": [
    "open_cases = cases.loc[cases['o_c'] == 'Open']\n",
    "closed_cases = cases.loc[cases['o_c'] == 'Closed']\n",
    "\n",
    "for i in range(len(open_cases)):\n",
    "    open_case = Case(open_cases.iloc[i])\n",
    "    print(open_case.stage, open_cases.casefiled)\n",
    "    print(open_case.statdate, open_case.keystatus)\n",
    "    print(open_case.initinspection, open_case.initinspresult)\n",
    "\n",
    "for i in range(len(closed_cases)):\n",
    "    closed_case = Case(closed_cases.iloc[i])\n",
    "    print(closed_case.stage, closed_case.casefiled)\n",
    "    print(closed_case.statdate, closed_case.keystatus)\n",
    "    print(closed_case.initinspection, closed_case.initinspresult)"
   ]
  },
  {
   "cell_type": "code",
   "execution_count": null,
   "metadata": {},
   "outputs": [],
   "source": []
  },
  {
   "cell_type": "code",
   "execution_count": null,
   "metadata": {},
   "outputs": [],
   "source": []
  }
 ]
}