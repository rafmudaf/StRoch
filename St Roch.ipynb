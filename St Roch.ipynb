{
 "cells": [
  {
   "cell_type": "markdown",
   "metadata": {},
   "source": [
    "# Data analysis of drug activity in St Roch"
   ]
  },
  {
   "cell_type": "markdown",
   "metadata": {},
   "source": [
    "The drug activity we've witnessed on Music St and N Villere St seems to be more widespread than just this area. This notebook agregates the data we've gathered to understand how this activity is spread throughout the ward."
   ]
  },
  {
   "cell_type": "markdown",
   "metadata": {},
   "source": [
    "### Library imports"
   ]
  },
  {
   "cell_type": "code",
   "execution_count": 3,
   "metadata": {},
   "outputs": [],
   "source": [
    "# Web tools / scraping\n",
    "import requests\n",
    "from bs4 import BeautifulSoup\n",
    "\n",
    "# Geo location\n",
    "from geopy.geocoders import ArcGIS\n",
    "\n",
    "# Mapping library\n",
    "import folium"
   ]
  },
  {
   "cell_type": "markdown",
   "metadata": {},
   "source": [
    "### Download ownership and mailing address information from the New Orleans Assessor"
   ]
  },
  {
   "cell_type": "code",
   "execution_count": 8,
   "metadata": {},
   "outputs": [],
   "source": [
    "class Address():\n",
    "    def __init__(self, number, street, street_type, city=\"New Orleans\", state=\"LA\", zip_code=\"70117\"):\n",
    "        self.number = number\n",
    "        self.street = street\n",
    "        self.street_type = street_type\n",
    "        self.city = city\n",
    "        self.state = state\n",
    "        self.zip_code = zip_code\n",
    "\n",
    "    @property\n",
    "    def full_address(self):\n",
    "        return \"{} {} {}, {}, {} {}\".format(self.number, self.street, self.street_type, self.city, self.state, self.zip_code)\n",
    "\n",
    "class Property():\n",
    "    def __init__(self, owner_name, address, contact_address):\n",
    "        self.owner_name = owner_name\n",
    "        self.address = address\n",
    "        self.contact_address = contact_address\n"
   ]
  },
  {
   "cell_type": "code",
   "execution_count": 100,
   "metadata": {},
   "outputs": [
    {
     "name": "stdout",
     "output_type": "stream",
     "text": [
      "['\\xa014175 CYPRESS N HOUSTON', <br/>, '\\xa0APT. # 606\\xa0', <br/>, '\\xa0CYPRESS, TX 77429']\n",
      "[]\n"
     ]
    },
    {
     "ename": "AttributeError",
     "evalue": "'list' object has no attribute 'split'",
     "output_type": "error",
     "traceback": [
      "\u001b[0;31m---------------------------------------------------------------------------\u001b[0m",
      "\u001b[0;31mAttributeError\u001b[0m                            Traceback (most recent call last)",
      "\u001b[0;32m<ipython-input-100-6e38bb46e5bd>\u001b[0m in \u001b[0;36m<module>\u001b[0;34m\u001b[0m\n\u001b[1;32m     37\u001b[0m     \u001b[0mcontact_address\u001b[0m \u001b[0;34m=\u001b[0m \u001b[0mlist\u001b[0m\u001b[0;34m(\u001b[0m \u001b[0mfilter\u001b[0m\u001b[0;34m(\u001b[0m \u001b[0mlinebreak\u001b[0m\u001b[0;34m.\u001b[0m\u001b[0mbr\u001b[0m\u001b[0;34m,\u001b[0m \u001b[0mcontact_address\u001b[0m \u001b[0;34m)\u001b[0m \u001b[0;34m)\u001b[0m\u001b[0;34m\u001b[0m\u001b[0;34m\u001b[0m\u001b[0m\n\u001b[1;32m     38\u001b[0m     \u001b[0mprint\u001b[0m\u001b[0;34m(\u001b[0m\u001b[0mcontact_address\u001b[0m\u001b[0;34m)\u001b[0m\u001b[0;34m\u001b[0m\u001b[0;34m\u001b[0m\u001b[0m\n\u001b[0;32m---> 39\u001b[0;31m     \u001b[0mnamenumberstreet\u001b[0m\u001b[0;34m,\u001b[0m \u001b[0mcitystatezip\u001b[0m \u001b[0;34m=\u001b[0m \u001b[0mcontact_address\u001b[0m\u001b[0;34m.\u001b[0m\u001b[0msplit\u001b[0m\u001b[0;34m(\u001b[0m\u001b[0;34m'\\xa0\\xa0'\u001b[0m\u001b[0;34m)\u001b[0m\u001b[0;34m\u001b[0m\u001b[0;34m\u001b[0m\u001b[0m\n\u001b[0m\u001b[1;32m     40\u001b[0m \u001b[0;34m\u001b[0m\u001b[0m\n\u001b[1;32m     41\u001b[0m     \u001b[0mcity\u001b[0m\u001b[0;34m,\u001b[0m \u001b[0mstatezip\u001b[0m \u001b[0;34m=\u001b[0m \u001b[0mcitystatezip\u001b[0m\u001b[0;34m.\u001b[0m\u001b[0mstrip\u001b[0m\u001b[0;34m(\u001b[0m\u001b[0;34m)\u001b[0m\u001b[0;34m.\u001b[0m\u001b[0msplit\u001b[0m\u001b[0;34m(\u001b[0m\u001b[0;34m','\u001b[0m\u001b[0;34m)\u001b[0m\u001b[0;34m\u001b[0m\u001b[0;34m\u001b[0m\u001b[0m\n",
      "\u001b[0;31mAttributeError\u001b[0m: 'list' object has no attribute 'split'"
     ]
    }
   ],
   "source": [
    "root_url = \"http://qpublic9.qpublic.net/la_orleans_display.php\"\n",
    "key_base = \"?KEY=\"\n",
    "addresses = [\n",
    "#     \"1420-MUSICST\",\n",
    "#     \"1338-MUSICST\",\n",
    "    \"2421-NVILLEREST\",\n",
    "#     \"2418-NVILLEREST\",\n",
    "#     \"2323-NROMANST\",\n",
    "#     \"1400-MUSICST\",\n",
    "#     \"1404-MUSICST\"\n",
    "]\n",
    "\n",
    "properties = []\n",
    "for address in addresses:\n",
    "    url = root_url + key_base + address\n",
    "    page = requests.get(url)\n",
    "    soup = BeautifulSoup(page.content, 'html.parser')\n",
    "    owner_info = soup.find_all(\"td\", class_='owner_value')\n",
    "#     print(type(owner_info[0]))\n",
    "#     print(owner_info[0].contents)\n",
    "#     print(owner_info[2].contents)\n",
    "#     print(owner_info[4].contents)\n",
    "\n",
    "    # Get this property's street address from the record\n",
    "    # Replace any encoded values with a space, split into a list, and remove any empty elements\n",
    "    street_address = list( filter( None, owner_info[4].text.replace(u'\\xa0', ' ').split(' ') ) )\n",
    "    number = street_address.pop(0).strip()\n",
    "    street_type = street_address.pop(-1).strip()\n",
    "    street = \" \".join(street_address).strip()\n",
    "    address = Address(number, street, street_type)\n",
    "\n",
    "    # Get this property's contact address from the record\n",
    "    contact_address = owner_info[2].contents\n",
    "    print(contact_address)\n",
    "    linebreak = BeautifulSoup('<br/>')\n",
    "    contact_address = list( filter( linebreak.br, contact_address ) )    \n",
    "    print(contact_address)\n",
    "    namenumberstreet, citystatezip = contact_address.split('\\xa0\\xa0')\n",
    "\n",
    "    city, statezip = citystatezip.strip().split(',')\n",
    "    state, zip_code = statezip.strip().split(' ')\n",
    "\n",
    "    namenumberstreet = list( filter( None, namenumberstreet.split('\\xa0') ) )\n",
    "    namenumberstreet = [e.split(' ') for e in namenumberstreet]\n",
    "    flat_list = []\n",
    "    for e in namenumberstreet:\n",
    "        flat_list += e\n",
    "    namenumberstreet = flat_list\n",
    "\n",
    "    for i, element in enumerate(namenumberstreet):\n",
    "        print(i , element,element.strip().isnumeric())\n",
    "        if element.strip().isnumeric():\n",
    "            number_index = i\n",
    "            break\n",
    "    name = namenumberstreet[:number_index]\n",
    "    numberstreet = namenumberstreet[number_index:]\n",
    "    print(name, numberstreet)\n",
    "#     print(namestreet.split('\\xa0')[:i], namestreet.split('\\xa0')[i:])\n",
    "#     namestreet = list( filter( None, namestreet.split('\\xa0') ) )\n",
    "    if len(namestreet) > 1:\n",
    "        name, street = namestreet\n",
    "    else:\n",
    "        street = \" \".join(namestreet)\n",
    "\n",
    "    street = street.split(' ')\n",
    "    number = street.pop(0)\n",
    "    street_type = street.pop(-1)\n",
    "    street = \" \".join(street)\n",
    "\n",
    "    contact_address = Address(number, street, street_type, city, state, zip_code)\n",
    "    print(contact_address.full_address)\n",
    "    owner_name = owner_info[0].text\n",
    "    properties.append(Property(owner_name, address, contact_address))\n",
    "\n",
    "#     print(\";\".join([owner_info[0].text, owner_info[4].text, owner_info[2].text]))\n",
    "\n",
    "# If the mailing address does not match the property address, get the information for the mailing address."
   ]
  },
  {
   "cell_type": "markdown",
   "metadata": {},
   "source": [
    "### Convert all addresses to latitude-longitude coordinates"
   ]
  },
  {
   "cell_type": "code",
   "execution_count": 14,
   "metadata": {},
   "outputs": [
    {
     "name": "stdout",
     "output_type": "stream",
     "text": [
      "[[29.972443861503848, -90.05132342146109], [29.97179929808414, -90.05127266417561], [29.971983280984187, -90.05168298521465], [29.971880686363953, -90.05173286441803], [29.975840779358247, -90.05437738703907], [29.972025000000002, -90.051372], [29.97211010713255, -90.05129789884005]]\n"
     ]
    }
   ],
   "source": [
    "locator = ArcGIS()\n",
    "locations = [locator.geocode(p.address.full_address) for p in properties]\n",
    "coordinates = [[l.latitude, l.longitude] for l in locations]"
   ]
  },
  {
   "cell_type": "markdown",
   "metadata": {},
   "source": [
    "### Plot the addresses and their relationships"
   ]
  },
  {
   "cell_type": "code",
   "execution_count": 21,
   "metadata": {},
   "outputs": [
    {
     "data": {
      "text/html": [
       "<div style=\"width:100%;\"><div style=\"position:relative;width:100%;height:0;padding-bottom:60%;\"><iframe src=\"about:blank\" style=\"position:absolute;width:100%;height:100%;left:0;top:0;border:none !important;\" data-html=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 onload=\"this.contentDocument.open();this.contentDocument.write(atob(this.getAttribute('data-html')));this.contentDocument.close();\" allowfullscreen webkitallowfullscreen mozallowfullscreen></iframe></div></div>"
      ],
      "text/plain": [
       "<folium.folium.Map at 0x11ee2f990>"
      ]
     },
     "execution_count": 21,
     "metadata": {},
     "output_type": "execute_result"
    }
   ],
   "source": [
    "fmap = folium.Map(location=coordinates[0], zoom_start=17)\n",
    "for coordinate in coordinates:\n",
    "    folium.Marker(location=coordinate, icon=folium.Icon(color='green')).add_to(fmap)\n",
    "# folium.PolyLine(locations=[p1, p2], color='blue').add_to(some_map)\n",
    "fmap"
   ]
  },
  {
   "cell_type": "code",
   "execution_count": null,
   "metadata": {},
   "outputs": [],
   "source": []
  }
 ],
 "metadata": {
  "kernelspec": {
   "display_name": "Python 3",
   "language": "python",
   "name": "python3"
  },
  "language_info": {
   "codemirror_mode": {
    "name": "ipython",
    "version": 3
   },
   "file_extension": ".py",
   "mimetype": "text/x-python",
   "name": "python",
   "nbconvert_exporter": "python",
   "pygments_lexer": "ipython3",
   "version": "3.7.6"
  }
 },
 "nbformat": 4,
 "nbformat_minor": 4
}
