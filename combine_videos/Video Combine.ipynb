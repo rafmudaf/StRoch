{
 "cells": [
  {
   "cell_type": "markdown",
   "metadata": {},
   "source": [
    "## Import Libraries"
   ]
  },
  {
   "cell_type": "code",
   "execution_count": 1,
   "metadata": {},
   "outputs": [],
   "source": [
    "import os\n",
    "from moviepy.editor import (\n",
    "    VideoFileClip,\n",
    "    ImageSequenceClip,\n",
    "    concatenate_videoclips\n",
    ")\n",
    "import video_processing"
   ]
  },
  {
   "cell_type": "markdown",
   "metadata": {},
   "source": [
    "## Load the video clips"
   ]
  },
  {
   "cell_type": "code",
   "execution_count": 2,
   "metadata": {},
   "outputs": [],
   "source": [
    "video_directory = \"20200510\"\n",
    "\n",
    "# Get list of videos\n",
    "video_paths = list( filter( lambda x: \".mp4\" in x, os.listdir(video_directory) ) )\n",
    "\n",
    "# Sort by name\n",
    "# video_paths.sort( key=lambda x: x )\n",
    "\n",
    "# Sort by last modification date\n",
    "video_paths.sort( key=lambda x: os.path.getmtime(os.path.join(video_directory, x) ), reverse=True )\n",
    "\n",
    "clips = [VideoFileClip( os.path.join(video_directory, video) ) for video in video_paths]"
   ]
  },
  {
   "cell_type": "markdown",
   "metadata": {},
   "source": [
    "## Filter video clips we dont want"
   ]
  },
  {
   "cell_type": "code",
   "execution_count": 3,
   "metadata": {},
   "outputs": [],
   "source": [
    "# Throw away clips shorter than 9 seconds\n",
    "# - These tend to be cars or bikes passing by quickly\n",
    "clips = list( filter( lambda x: x.duration >= 9, clips ) )\n",
    "\n",
    "clips1 = clips[:len(clips)//4]\n",
    "clips2 = clips[len(clips)//4:len(clips)//2]\n",
    "clips3 = clips[len(clips)//2:3*len(clips)//4]\n",
    "clips4 = clips[3*len(clips)//4:]"
   ]
  },
  {
   "cell_type": "code",
   "execution_count": 4,
   "metadata": {},
   "outputs": [
    {
     "data": {
      "text/plain": [
       "620"
      ]
     },
     "execution_count": 4,
     "metadata": {},
     "output_type": "execute_result"
    }
   ],
   "source": [
    "import gc\n",
    "gc.collect()"
   ]
  },
  {
   "cell_type": "markdown",
   "metadata": {},
   "source": [
    "## Process the video clips"
   ]
  },
  {
   "cell_type": "code",
   "execution_count": 6,
   "metadata": {},
   "outputs": [],
   "source": [
    "# Drop frames with a low time-energy\n",
    "# - This is meant to be a measure of how much movement is happening in a clip\n",
    "# - We dont really want to see people standing still. It may be worthwhile to go back and review these clips,\n",
    "#   but for the sake of viewing the clips quickly to identify videos of interest we only want to see movement\n",
    "for i, clip in enumerate(clips1):\n",
    "    times = video_processing.filter_time_energy_frames(clips[0])\n",
    "    frames = [clip.get_frame(t) for t in times]\n",
    "    image_sequence = ImageSequenceClip(frames, fps=clip.fps)\n",
    "    clips[i] = image_sequence"
   ]
  },
  {
   "cell_type": "markdown",
   "metadata": {},
   "source": [
    "## Create the final video and export"
   ]
  },
  {
   "cell_type": "code",
   "execution_count": 7,
   "metadata": {},
   "outputs": [
    {
     "name": "stderr",
     "output_type": "stream",
     "text": [
      "t:   0%|          | 10/144365 [00:00<26:29, 90.80it/s, now=None]"
     ]
    },
    {
     "name": "stdout",
     "output_type": "stream",
     "text": [
      "Moviepy - Building video 20200510.mp4.\n",
      "Moviepy - Writing video 20200510.mp4\n",
      "\n"
     ]
    },
    {
     "name": "stderr",
     "output_type": "stream",
     "text": [
      "                                                                    \r"
     ]
    },
    {
     "name": "stdout",
     "output_type": "stream",
     "text": [
      "Moviepy - Done !\n",
      "Moviepy - video ready 20200510.mp4\n"
     ]
    }
   ],
   "source": [
    "final_clip = concatenate_videoclips(clips)\n",
    "final_clip.write_videofile(video_directory + \".mp4\")"
   ]
  },
  {
   "cell_type": "code",
   "execution_count": null,
   "metadata": {},
   "outputs": [],
   "source": []
  }
 ],
 "metadata": {
  "kernelspec": {
   "display_name": "Python 3",
   "language": "python",
   "name": "python3"
  },
  "language_info": {
   "codemirror_mode": {
    "name": "ipython",
    "version": 3
   },
   "file_extension": ".py",
   "mimetype": "text/x-python",
   "name": "python",
   "nbconvert_exporter": "python",
   "pygments_lexer": "ipython3",
   "version": "3.7.7"
  }
 },
 "nbformat": 4,
 "nbformat_minor": 4
}
