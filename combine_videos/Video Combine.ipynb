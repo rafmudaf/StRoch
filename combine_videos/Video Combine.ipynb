{
 "cells": [
  {
   "cell_type": "code",
   "execution_count": 1,
   "metadata": {},
   "outputs": [],
   "source": [
    "import os\n",
    "from moviepy.editor import VideoFileClip, concatenate_videoclips"
   ]
  },
  {
   "cell_type": "code",
   "execution_count": 3,
   "metadata": {},
   "outputs": [],
   "source": [
    "# Load the video clips\n",
    "\n",
    "video_directory = \"20200509\"\n",
    "\n",
    "# Get list of videos\n",
    "video_paths = list( filter( lambda x: \".mp4\" in x, os.listdir(video_directory) ) )\n",
    "# video_paths.sort( key=lambda x: x )  # sort by name\n",
    "video_paths.sort( key=lambda x: os.path.getmtime(os.path.join(video_directory, x) ) )  # sort by last modification date\n",
    "\n",
    "clips = [VideoFileClip( os.path.join(video_directory, video) ) for video in video_paths]"
   ]
  },
  {
   "cell_type": "code",
   "execution_count": 4,
   "metadata": {},
   "outputs": [
    {
     "name": "stderr",
     "output_type": "stream",
     "text": [
      "t:   0%|          | 5/310519 [00:00<2:02:22, 42.29it/s, now=None]"
     ]
    },
    {
     "name": "stdout",
     "output_type": "stream",
     "text": [
      "Moviepy - Building video 20200509my_concatenation.mp4.\n",
      "Moviepy - Writing video 20200509my_concatenation.mp4\n",
      "\n"
     ]
    },
    {
     "name": "stderr",
     "output_type": "stream",
     "text": [
      "                                                                        \r"
     ]
    },
    {
     "name": "stdout",
     "output_type": "stream",
     "text": [
      "Moviepy - Done !\n",
      "Moviepy - video ready 20200509my_concatenation.mp4\n"
     ]
    }
   ],
   "source": [
    "final_clip = concatenate_videoclips(clips)\n",
    "final_clip.write_videofile(video_directory + \".mp4\")"
   ]
  },
  {
   "cell_type": "code",
   "execution_count": null,
   "metadata": {},
   "outputs": [],
   "source": []
  }
 ],
 "metadata": {
  "kernelspec": {
   "display_name": "Python 3",
   "language": "python",
   "name": "python3"
  },
  "language_info": {
   "codemirror_mode": {
    "name": "ipython",
    "version": 3
   },
   "file_extension": ".py",
   "mimetype": "text/x-python",
   "name": "python",
   "nbconvert_exporter": "python",
   "pygments_lexer": "ipython3",
   "version": "3.7.6"
  }
 },
 "nbformat": 4,
 "nbformat_minor": 4
}
